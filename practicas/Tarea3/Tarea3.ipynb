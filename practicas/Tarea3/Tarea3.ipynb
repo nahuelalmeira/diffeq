{
 "cells": [
  {
   "cell_type": "markdown",
   "metadata": {},
   "source": [
    "### **Consigna**\n",
    "\n",
    "Resolver, usando el código de la Tarea 4, la ecuación\n",
    "\n",
    "$$\n",
    "\\phi_{tt} = (a^2 \\phi_x)_x,\n",
    "$$\n",
    "\n",
    "donde $a = a(x) = 1 + 0.5 \\sin(\\omega x)$ (poner el valor de $\\omega$ en data igual a $50$).\n",
    "\n",
    "Discretizar en dos formas:\n",
    "\n",
    "**1 - Strict**\n",
    "\n",
    "$$\n",
    "\\begin{align}\n",
    "P_t &= D(a^2 W) \\\\\n",
    "W_t &= DP\n",
    "\\end{align}\n",
    "$$\n",
    "\n",
    "**2 - No strict**\n",
    "\n",
    "$$\n",
    "\\begin{align}\n",
    "\\phi_t &= P \\\\\n",
    "P_t &= a^2 DW + 2 a a_x W \\\\\n",
    "W_t &= DP\n",
    "\\end{align}\n",
    "$$\n",
    "\n",
    "Vean que Strict conserva la energía de forma exacta (encuentre la energía primero), mientras que No strict no, pues para las cuentas habría que hacer uso de la regla de Leibnizt, la cual no vale para los operadores de diferencia finita usados. \n",
    "\n",
    "Corra el programa para los datos iniciales ya usados y monitoree la energía (ponga la energía correcta). \n",
    "\n",
    "Investigue las diferencias entre estos dos tipos de discretizaciones. Puede usar otros tipos de dependencia para $a(x)$, incluso $a(x,t)$, mientras que sea periódica en $x$"
   ]
  },
  {
   "cell_type": "code",
   "execution_count": null,
   "metadata": {},
   "outputs": [],
   "source": []
  }
 ],
 "metadata": {
  "kernelspec": {
   "display_name": "Python 3",
   "language": "python",
   "name": "python3"
  },
  "language_info": {
   "codemirror_mode": {
    "name": "ipython",
    "version": 3
   },
   "file_extension": ".py",
   "mimetype": "text/x-python",
   "name": "python",
   "nbconvert_exporter": "python",
   "pygments_lexer": "ipython3",
   "version": "3.6.4"
  }
 },
 "nbformat": 4,
 "nbformat_minor": 2
}

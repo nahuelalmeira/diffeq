{
 "cells": [
  {
   "cell_type": "markdown",
   "metadata": {},
   "source": [
    "Sea $\\varphi$ tal que \n",
    "\n",
    "$$\n",
    "\\varphi_{tt} = \\varphi_{xx},\\quad x\\epsilon (0, 1).\n",
    "$$\n",
    "\n",
    "Definimos el vector $\\mathbf{w}(x,t) = (w^1, w^2)^T$, donde $w^1 = \\varphi_x$ y $w^2 = \\varphi_t$. Proponemos como ansatz que $\\mathbf{w}(x,t)$ satisface la ecuaci\\'on\n",
    "\n",
    "$$\n",
    "\\mathbf{w}_t = A \\mathbf{w}_x,\\quad A = \n",
    "\\begin{pmatrix}\n",
    "a_{11} & a_{12} \\\\\n",
    "a_{21} & a_{22} \n",
    "\\end{pmatrix}.\n",
    "$$\n",
    "\n",
    "Determinamos los coeficientes de $A$.\n",
    "\n",
    "$$\n",
    "\\begin{align}\n",
    "w^1_t &= a_{11} w^1 + a_{12} w^2 \\\\\n",
    "w^1_t &= a_{21} w^1 + a_{22} w^2 \n",
    "\\end{align}\n",
    "$$\n",
    "\n",
    "En términos de $\\varphi$,\n",
    "\n",
    "$$\n",
    "\\begin{align}\n",
    "\\varphi_{xt} &= a_{11} \\varphi_{xx} + a_{12} \\varphi_{tx} \\\\\n",
    "\\varphi_{tt} &= a_{21} \\varphi_{xx} + a_{22} \\varphi_{tx} \n",
    "\\end{align}\n",
    "$$\n",
    "\n",
    "Entonces, $a_{11} = a_{22} = 0$ y $a_{12} = a_{21} = 1$, por lo que la ecuación anterior se puede expresar como\n",
    "\n",
    "$$\n",
    "\\mathbf{w}_t = \n",
    "\\begin{pmatrix}\n",
    "0 & 1 \\\\\n",
    "1 & 0 \n",
    "\\end{pmatrix} \n",
    "\\mathbf{w}_x.\n",
    "$$\n",
    "\n",
    "Diagonalizamos la ecuación anterior. Definimos $S$ como\n",
    "\n",
    "$$\n",
    "S = \\dfrac{1}{\\sqrt{2}}\n",
    "\\begin{pmatrix}\n",
    "1 & -1 \\\\\n",
    "1 & 1 \n",
    "\\end{pmatrix}\n",
    "\\quad \\Rightarrow \\quad\n",
    "S^{-1} = \\dfrac{1}{\\sqrt{2}}\n",
    "\\begin{pmatrix}\n",
    "1 & 1 \\\\\n",
    "-1 & 1 \n",
    "\\end{pmatrix},\n",
    "$$\n",
    "\n",
    "y la variable \n",
    "\n",
    "$$\n",
    "\\mathbf{u} = \n",
    "\\begin{pmatrix}\n",
    "U \\\\\n",
    "V\n",
    "\\end{pmatrix}\n",
    "= S^{-1} \\mathbf{w},\n",
    "$$\n",
    "\n",
    "la cual satisface\n",
    "\n",
    "$$\n",
    "\\mathbf{u}_t = \\Lambda \\mathbf{u}_x,\\quad \\Lambda = \n",
    "\\begin{pmatrix}\n",
    "1 & 0 \\\\\n",
    "0 & -1 \n",
    "\\end{pmatrix}.\n",
    "$$\n",
    "\n",
    "\n",
    "Es decir, llevamos el sistema original a un sistema de dos escuaciones desacopladas\n",
    "\n",
    "$$\n",
    "\\begin{align}\n",
    "U_t &= U_x \\\\\n",
    "V_t &= -V_x\n",
    "\\end{align}\n",
    "$$"
   ]
  },
  {
   "cell_type": "markdown",
   "metadata": {},
   "source": [
    "Penalties:\n",
    "\n",
    "$$\n",
    "\\begin{align}\n",
    "V_t^{x_0} &= V_t^{x_0} + F (g(t) - V^{x_0}),\\quad U_t^{x_0} = U_t^{x_0}  \\\\\n",
    "U_t^{x_N} &= U_t^{x_N} + F (h(t) - U^{x_N}),\\quad V_t^{x_N} = V_t^{x_N}\n",
    "\\end{align}\n",
    "$$"
   ]
  },
  {
   "cell_type": "markdown",
   "metadata": {},
   "source": [
    "**1. Onda entrante** \n",
    "\n",
    "$$\n",
    "g(t) = \n",
    "\\begin{cases}\n",
    "\\sin(2\\pi x), &\\text{si } t < 0.5 \\\\\n",
    "0, &\\text{si }  t \\geq 0.5\n",
    "\\end{cases};\\quad\n",
    "h(t) = V^{x_N}\n",
    "$$"
   ]
  },
  {
   "cell_type": "markdown",
   "metadata": {},
   "source": [
    "**2. Onda saliente (sin reflexión)** \n",
    "\n",
    "$$\n",
    "g(t) = h(t) = 0\n",
    "$$"
   ]
  },
  {
   "cell_type": "markdown",
   "metadata": {},
   "source": [
    "**3. Doble reflexión**"
   ]
  },
  {
   "cell_type": "markdown",
   "metadata": {},
   "source": [
    "**4. Reflexión con atenuación** \n",
    "\n",
    "$$\n",
    "\\begin{align}\n",
    "g(t) &= \\dfrac{U^{x_0}}{2} \\bigg( 1 + \\cos(2\\pi \\omega t) \\bigg) \\\\\n",
    "h(t) &= \\dfrac{V^{x_0}}{2} \\bigg( 1 + \\cos(2\\pi \\omega t) \\bigg)\n",
    "\\end{align}\n",
    "$$"
   ]
  },
  {
   "cell_type": "markdown",
   "metadata": {},
   "source": [
    "**5. Reflexión con atenuación y amplificación** \n",
    "\n",
    "$$\n",
    "\\begin{align}\n",
    "g(t) &= U^{x_0} \\bigg( 1 + \\cos(2\\pi \\omega t) \\bigg) \\\\\n",
    "h(t) &= V^{x_0} \\bigg( 1 + \\cos(2\\pi \\omega t) \\bigg)\n",
    "\\end{align}\n",
    "$$"
   ]
  },
  {
   "cell_type": "markdown",
   "metadata": {},
   "source": [
    "**6. Campo dado más reflexión** "
   ]
  },
  {
   "cell_type": "code",
   "execution_count": null,
   "metadata": {},
   "outputs": [],
   "source": []
  }
 ],
 "metadata": {
  "kernelspec": {
   "display_name": "Python 3",
   "language": "python",
   "name": "python3"
  },
  "language_info": {
   "codemirror_mode": {
    "name": "ipython",
    "version": 3
   },
   "file_extension": ".py",
   "mimetype": "text/x-python",
   "name": "python",
   "nbconvert_exporter": "python",
   "pygments_lexer": "ipython3",
   "version": "3.6.4"
  }
 },
 "nbformat": 4,
 "nbformat_minor": 2
}

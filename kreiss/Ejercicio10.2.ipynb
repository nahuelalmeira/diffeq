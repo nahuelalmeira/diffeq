{
 "cells": [
  {
   "cell_type": "markdown",
   "metadata": {},
   "source": []
  },
  {
   "cell_type": "code",
   "execution_count": 1,
   "metadata": {},
   "outputs": [],
   "source": [
    "import numpy as np\n",
    "import matplotlib.pyplot as plt\n",
    "\n",
    "%matplotlib inline\n",
    "\n",
    "from mpl_settings_v3 import *\n",
    "\n",
    "from metodos import choose_solver, Qtest, QtildeTest"
   ]
  },
  {
   "cell_type": "code",
   "execution_count": 7,
   "metadata": {},
   "outputs": [
    {
     "name": "stdout",
     "output_type": "stream",
     "text": [
      "101\n"
     ]
    },
    {
     "data": {
      "image/png": "[encoded data removed]",
      "text/plain": [
       "<matplotlib.figure.Figure at 0x7fa51f3cf7f0>"
      ]
     },
     "metadata": {},
     "output_type": "display_data"
    }
   ],
   "source": [
    "def f(x):\n",
    "    if x in [0, 0.5, 1]:\n",
    "        return 0\n",
    "    if 0 < x < 0.5:\n",
    "        return 1\n",
    "    return -1\n",
    "\n",
    "h = 0.01\n",
    "k = 0.1*h**2\n",
    "\n",
    "X = np.arange(0, 1+h, h)\n",
    "init_data = np.array([f(x) for x in X])\n",
    "print(init_data.size)\n",
    "\n",
    "fig, ax = plt.subplots(figsize=(8,4))\n",
    "ax.set_xlabel(r'$x$')\n",
    "ax.set_ylabel(r'$f(x)$')\n",
    "ax.plot(X, init_data)\n",
    "plt.show()"
   ]
  },
  {
   "cell_type": "code",
   "execution_count": 8,
   "metadata": {},
   "outputs": [],
   "source": [
    "def Dpm(f, j):\n",
    "    return (1/h**2) * (f[j+1] - 2*f[j] + f[j-1])\n",
    "\n",
    "v = np.array(init_data)\n",
    "\n"
   ]
  }
 ],
 "metadata": {
  "kernelspec": {
   "display_name": "Python [conda env:networks3]",
   "language": "python",
   "name": "conda-env-networks3-py"
  },
  "language_info": {
   "codemirror_mode": {
    "name": "ipython",
    "version": 3
   },
   "file_extension": ".py",
   "mimetype": "text/x-python",
   "name": "python",
   "nbconvert_exporter": "python",
   "pygments_lexer": "ipython3",
   "version": "3.6.4"
  }
 },
 "nbformat": 4,
 "nbformat_minor": 2
}
